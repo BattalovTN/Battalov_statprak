{
  "cells": [
    {
      "cell_type": "markdown",
      "metadata": {
        "id": "view-in-github",
        "colab_type": "text"
      },
      "source": [
        "<a href=\"https://colab.research.google.com/github/BattalovTN/Battalov_statprak/blob/main/homework1.ipynb\" target=\"_parent\"><img src=\"https://colab.research.google.com/assets/colab-badge.svg\" alt=\"Open In Colab\"/></a>"
      ]
    },
    {
      "cell_type": "markdown",
      "metadata": {
        "id": "xw8BD8v2oBGj"
      },
      "source": [
        "# Homework"
      ]
    },
    {
      "cell_type": "markdown",
      "metadata": {
        "id": "sSos7q2_oBGj"
      },
      "source": [
        "## Problem 1"
      ]
    },
    {
      "cell_type": "markdown",
      "metadata": {
        "id": "NiX8ePp0oBGk"
      },
      "source": [
        "Make a tuple containing natural numbers, the square of which is a multiple of 3, 4, but not a multiple of 8 and not exceeding 12345."
      ]
    },
    {
      "cell_type": "code",
      "execution_count": 43,
      "metadata": {
        "id": "XmPHEnS9oBGk",
        "colab": {
          "base_uri": "https://localhost:8080/"
        },
        "outputId": "340ea634-45ed-4c97-92e0-2982b9de3bfc"
      },
      "outputs": [
        {
          "output_type": "stream",
          "name": "stdout",
          "text": [
            "(6, 18, 30, 42, 54, 66, 78, 90, 102)\n"
          ]
        }
      ],
      "source": [
        "b = tuple(n for n in range(1, 12346) if (n**2 % 3 == 0 and n**2 % 4 == 0 and n**2 % 8 != 0 and n**2 <= 12345))\n",
        "print(b)"
      ]
    },
    {
      "cell_type": "markdown",
      "metadata": {
        "id": "OZBeUyxcoBGk"
      },
      "source": [
        "## Problem 2"
      ]
    },
    {
      "cell_type": "markdown",
      "metadata": {
        "id": "zIfvg22noBGk"
      },
      "source": [
        "\n",
        "Write a function that takes a two-dimensional array and a string as input and returns an array rotated 90 degrees counterclockwise if the string 'left' was passed, and clockwise if the string 'right' was passed.\n",
        "\n",
        "Example for input: $\\begin{bmatrix} 1 & 2 & 3 \\\\ 4 & 5 & 6 \\\\ 7 & 8 & 9 \\end{bmatrix}$.\\\n",
        "If the string 'left' is passed, the function should return $\\begin{bmatrix} 3 & 6 & 9 \\\\ 2 & 5 & 8 \\\\ 1 & 4 & 7 \\end{bmatrix}$, and if the string 'right' is passed, the function should return $\\begin{bmatrix} 7 & 4 & 1 \\\\ 8 & 5 & 2 \\\\ 9 & 6 & 3 \\end{bmatrix}$."
      ]
    },
    {
      "cell_type": "code",
      "execution_count": 42,
      "metadata": {
        "id": "HNvy_cRjoBGk",
        "colab": {
          "base_uri": "https://localhost:8080/"
        },
        "outputId": "ec64bb16-a6e1-4b23-8f39-77e7f67c77c9"
      },
      "outputs": [
        {
          "output_type": "stream",
          "name": "stdout",
          "text": [
            "[[3, 6, 9], [2, 5, 8], [1, 4, 7]]\n",
            "[[7, 4, 1], [8, 5, 2], [9, 6, 3]]\n",
            "bad direction\n",
            "None\n"
          ]
        }
      ],
      "source": [
        "def rotate(matrix, dir):\n",
        "    if dir == 'left':\n",
        "        return [list(row) for row in zip(*matrix)][::-1] #сначала транспонируем, потом переворачиваем элементы каждого столбца (переворачиваем порядок строк)\n",
        "    elif dir == 'right': return [list(row)[::-1] for row in zip(*matrix)] #транспонируем и переворачиваем элементы каждой строки\n",
        "    else: print(\"bad direction\")\n",
        "\n",
        "matrix = [[1, 2, 3],[4, 5, 6],[7, 8, 9]]\n",
        "\n",
        "print(rotate(matrix, 'left'))\n",
        "print(rotate(matrix, 'right'))\n",
        "print(rotate(matrix, 'lol'))"
      ]
    },
    {
      "cell_type": "markdown",
      "metadata": {
        "id": "_dY-PFlCoBGk"
      },
      "source": [
        "## Problem 3"
      ]
    },
    {
      "cell_type": "markdown",
      "metadata": {
        "id": "3CaIwcm0oBGk"
      },
      "source": [
        "Write a function that takes a string as input and returns a dictionary containing the number of occurrences of each character in the string.\n",
        "\n",
        "Example for the string 'hello, world!': {'h': 1, 'e': 1, 'l': 3, 'o': 2, ',': 1, ' ': 1, 'w': 1, 'r': 1, 'd': 1, '!': 1}."
      ]
    },
    {
      "cell_type": "code",
      "execution_count": 41,
      "metadata": {
        "id": "rlSbHusZoBGk",
        "colab": {
          "base_uri": "https://localhost:8080/"
        },
        "outputId": "399068d5-1ba3-4b58-87e2-ee098483f85d"
      },
      "outputs": [
        {
          "output_type": "stream",
          "name": "stdout",
          "text": [
            "[{'h': 1, 'e': 1, 'l': 3, 'o': 2, ',': 1, ' ': 1, 'w': 1, 'r': 1, 'd': 1, '!': 1}]\n"
          ]
        }
      ],
      "source": [
        "def string_count(string):\n",
        "  s_count = {}\n",
        "  for char in string:\n",
        "        if char in s_count: s_count[char] += 1 #если уже есть в словаре\n",
        "        else: s_count[char] = 1 #если встретили первый раз\n",
        "  return [s_count]\n",
        "\n",
        "text = \"hello, world!\"\n",
        "result = string_count(text)\n",
        "print(result)"
      ]
    },
    {
      "cell_type": "markdown",
      "metadata": {
        "id": "KBGJ7PeboBGk"
      },
      "source": [
        "## Problem 4"
      ]
    },
    {
      "cell_type": "markdown",
      "metadata": {
        "id": "XS4Seqa9oBGk"
      },
      "source": [
        "### Implementing a Library Management System\n",
        "\n",
        "#### Description\n",
        "\n",
        "You are required to design and implement a system for managing books and users in a library. The system should allow for the management of books (adding, deleting, searching by various criteria) and users (registration, deletion, searching), as well as tracking the history of interactions between them (issuing and returning books).\n",
        "\n",
        "#### Tasks\n",
        "\n",
        "1. **`Book` Class**:\n",
        "   - Attributes: title, author, year of publication, ISBN, number of copies.\n",
        "   - Methods: constructor, methods to get information about the book, method to change the number of copies (when issuing and returning books).\n",
        "\n",
        "2. **`User` Class**:\n",
        "   - Attributes: user name, library card number, list of borrowed books.\n",
        "   - Methods: constructor, methods for user registration, methods for adding and removing books from the borrowed list.\n",
        "\n",
        "3. **`Library` Class**:\n",
        "   - Attributes: list of books, list of users, transaction history (who, when, which book was borrowed and returned).\n",
        "   - Methods: constructor, methods for adding and deleting books and users, methods for issuing and returning books, searching for books and users by various criteria, method to display the transaction history.\n",
        "\n",
        "#### Assignment\n",
        "\n",
        "1. Implement the `Book`, `User`, and `Library` classes with the specified attributes and methods.\n",
        "2. Create several books and users, and add them to the library system.\n",
        "3. Implement scenarios for issuing books to users and their return.\n",
        "4. Display the transaction history to show how books were issued and returned.\n"
      ]
    },
    {
      "cell_type": "code",
      "execution_count": 40,
      "metadata": {
        "id": "IbqwtWWsoBGl",
        "colab": {
          "base_uri": "https://localhost:8080/"
        },
        "outputId": "2ebcd1e8-0296-43fa-9626-b7306f6c7c54"
      },
      "outputs": [
        {
          "output_type": "stream",
          "name": "stdout",
          "text": [
            "Library created\n",
            "Book 'Homological algebra' added to library\n",
            "User Battalov Tamerlan registered\n",
            "Battalov Tamerlan took the book 'Homological algebra'\n",
            "Battalov Tamerlan returned the book 'Homological algebra'\n",
            "Battalov Tamerlan took 'Homological algebra'\n",
            "Battalov Tamerlan returned 'Homological algebra'\n"
          ]
        }
      ],
      "source": [
        "class Book:\n",
        "    def __init__(self, title, author, year, isbn, copies): #Конструктор\n",
        "        self.title = title\n",
        "        self.author = author\n",
        "        self.year = year\n",
        "        self.isbn = isbn\n",
        "        self.copies = copies\n",
        "        print(f\"Book '{title}' added to library\")\n",
        "\n",
        "    def get_info(self): #Информация\n",
        "        return f\"{self.title} ({self.year}), {self.author} - ISBN: {self.isbn}, Copies: {self.copies}\"\n",
        "\n",
        "    def update_copies(self, change): #изменение номера копии\n",
        "        self.copies += change\n",
        "\n",
        "class User:\n",
        "    def __init__(self, name, card_number): #Конструктор\n",
        "        self.name = name\n",
        "        self.card_number = card_number\n",
        "        self.borrowed_books = []\n",
        "        print(f\"User {name} registered\")\n",
        "\n",
        "    def borrow_book(self, book): #Взятие книги\n",
        "        if book.copies > 0:\n",
        "            self.borrowed_books.append(book)\n",
        "            book.update_copies(-1)\n",
        "            print(f\"{self.name} took the book '{book.title}'\")\n",
        "            return True\n",
        "        print(f\"No copies of the book available '{book.title}'\")\n",
        "        return False\n",
        "\n",
        "    def return_book(self, book): #Возврат\n",
        "        if book in self.borrowed_books:\n",
        "            self.borrowed_books.remove(book)\n",
        "            book.update_copies(1)\n",
        "            print(f\"{self.name} returned the book '{book.title}'\")\n",
        "            return True\n",
        "        print(f\"{self.name} didn't take the book '{book.title}'\")\n",
        "        return False\n",
        "\n",
        "class Library:\n",
        "    def __init__(self): #Конструктор\n",
        "        self.books = []\n",
        "        self.users = []\n",
        "        self.transaction_history = []\n",
        "        print(\"Library created\")\n",
        "\n",
        "    def add_book(self, book): #Добавить книгу\n",
        "        self.books.append(book)\n",
        "\n",
        "    def remove_book(self, book): #Удалить книгу\n",
        "        if book in self.books:\n",
        "            self.books.remove(book)\n",
        "\n",
        "    def register_user(self, user): #Добавить юзера\n",
        "        self.users.append(user)\n",
        "\n",
        "    def delete_user(self, user): #Удалить юзера\n",
        "        if user in self.users:\n",
        "            self.users.remove(user)\n",
        "\n",
        "    def issue_book(self, user, book): #Выдача книги\n",
        "        if user.borrow_book(book):\n",
        "            self.transaction_history.append(f\"{user.name} took '{book.title}'\")\n",
        "\n",
        "    def return_book(self, user, book): #Возврат книги\n",
        "        if user.return_book(book):\n",
        "            self.transaction_history.append(f\"{user.name} returned '{book.title}'\")\n",
        "\n",
        "    def search_books(self, keyword): #Поиск\n",
        "        return [book.get_info() for book in self.books if keyword.lower() in book.title.lower() or keyword.lower() in book.author.lower()]\n",
        "\n",
        "    def display_transaction_history(self): #История\n",
        "        for record in self.transaction_history:\n",
        "            print(record)\n",
        "\n",
        "# Пример импользования\n",
        "library = Library()\n",
        "\n",
        "# Создание книг\n",
        "book1 = Book(\"Homological algebra\", \"Legendarov Vasiliy\", 1991, \"123456789\", 3)\n",
        "library.add_book(book1)\n",
        "\n",
        "# Регистрация пользователя\n",
        "user1 = User(\"Battalov Tamerlan\", \"U1001\")\n",
        "library.register_user(user1)\n",
        "\n",
        "# Выдача книг\n",
        "library.issue_book(user1, book1)\n",
        "\n",
        "# Возврат книги\n",
        "library.return_book(user1, book1)\n",
        "\n",
        "# История операций\n",
        "library.display_transaction_history()"
      ]
    },
    {
      "cell_type": "markdown",
      "metadata": {
        "id": "0c8zRbSIoBGl"
      },
      "source": [
        "## Problem 5*"
      ]
    },
    {
      "cell_type": "markdown",
      "metadata": {
        "id": "8ltdzRmOoBGl"
      },
      "source": [
        "Explain why list `b` changes after the execution of the following code:\n",
        "\n",
        "```python\n",
        "a = [1, 2, 3]\n",
        "b = a\n",
        "a[0] = 4\n",
        "print(b)\n",
        "```"
      ]
    },
    {
      "cell_type": "markdown",
      "metadata": {
        "id": "RxgnUfFPoBGl"
      },
      "source": [
        "> Write your answer in markdown cell after:"
      ]
    },
    {
      "cell_type": "markdown",
      "metadata": {
        "id": "Mb-amOX5oBGl"
      },
      "source": [
        "**ОТВЕТ** Когда мы пишем b = a, с этого моменты мы ссылаемся на a. То есть мы не создаём копию списка, а просто ссылаемся на него. Поэтому при изменении изначального списка меняется и само b. Если бы мы хотели сделать копию, то нужно было бы писать b = list(a)."
      ]
    },
    {
      "cell_type": "markdown",
      "metadata": {
        "id": "TmXLkc_foBGl"
      },
      "source": [
        "## Problem 6*"
      ]
    },
    {
      "cell_type": "markdown",
      "metadata": {
        "id": "Gn0ibiVCoBGl"
      },
      "source": [
        "Let\n",
        "$$A = \\sum_{i=1}^{10000} \\frac{1}{i^2},\\quad B=\\sum_{i=10000}^{1} \\frac{1}{i^2}.$$\n",
        "Calculate the values of $A$ and $B$ and compare them. What do you observe? Explain why this happens. What is the best way to calculate the value of $\\sum\\limits_{i=1}^{10000} \\dfrac{1}{i^2}$?"
      ]
    },
    {
      "cell_type": "markdown",
      "source": [
        "**ОТВЕТ** Проблема разности в точности связана с округлениями чисел с большим количеством знаков послле запятой. Компьютер выдаёт нам числа с ограниченной точностью. В первом способе мы прибавляем маленькие к большим, что может привести к потере маленьких чисел из-за округления. Логично будет начинать с маленьких чисел и заканчивать большими, чтобы не терять точность."
      ],
      "metadata": {
        "id": "_1GbXw6sw1d3"
      }
    },
    {
      "cell_type": "code",
      "execution_count": 39,
      "metadata": {
        "id": "3q93uGqFoBGl",
        "colab": {
          "base_uri": "https://localhost:8080/"
        },
        "outputId": "2c09559a-0a6b-4b00-9b73-a8d5495c3c8e"
      },
      "outputs": [
        {
          "output_type": "stream",
          "name": "stdout",
          "text": [
            "1.6448340718480652\n",
            "1.6448340718480596\n"
          ]
        }
      ],
      "source": [
        "sum_A = sum(1 / i**2 for i in range(1, 10001))\n",
        "sum_B = sum(1 / i**2 for i in range(10000, 0, -1))\n",
        "\n",
        "print(sum_A)\n",
        "print(sum_B)\n"
      ]
    }
  ],
  "metadata": {
    "colab": {
      "provenance": [],
      "include_colab_link": true
    },
    "kernelspec": {
      "display_name": "Python 3",
      "language": "python",
      "name": "python3"
    },
    "language_info": {
      "codemirror_mode": {
        "name": "ipython",
        "version": 3
      },
      "file_extension": ".py",
      "mimetype": "text/x-python",
      "name": "python",
      "nbconvert_exporter": "python",
      "pygments_lexer": "ipython3",
      "version": "3.10.6"
    }
  },
  "nbformat": 4,
  "nbformat_minor": 0
}